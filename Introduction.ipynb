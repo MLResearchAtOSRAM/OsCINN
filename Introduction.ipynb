{
 "cells": [
  {
   "cell_type": "code",
   "execution_count": 1,
   "id": "8184f909",
   "metadata": {
    "tags": []
   },
   "outputs": [],
   "source": [
    "%load_ext autoreload\n",
    "%autoreload\n",
    "\n",
    "import torch\n",
    "from OScINN import OScINN1D\n"
   ]
  },
  {
   "cell_type": "markdown",
   "id": "cefdc942",
   "metadata": {},
   "source": [
    "run a small test on a cinn with random data to test the functionality"
   ]
  },
  {
   "cell_type": "code",
   "execution_count": 4,
   "id": "62afe232",
   "metadata": {},
   "outputs": [
    {
     "name": "stdout",
     "output_type": "stream",
     "text": [
      "condition shape:  torch.Size([50, 1, 15])\n",
      "latent space shape:  torch.Size([50, 9])\n"
     ]
    }
   ],
   "source": [
    "oscinn = OScINN1D(9, 100, 8, cuda=False) # create a cINN with input dim:9, conditional input dim:100 and 8 all_in_one_blocks\n",
    "device = 'cuda' if torch.cuda.is_available() else 'cpu'\n",
    "c = torch.randn(50, 1, 100).to(device) # create some artificial data to be used as conditional input\n",
    "x = torch.randn(50, 9).to(device) # create some artificial data to be used as input to the invertible network\n",
    "\n",
    "c = oscinn.cond_net(c)\n",
    "print('condition shape: ', c.shape)\n",
    "c = [c.squeeze() for i in range(8)] # the output of the conditional network should be given to every all_in_one_blocks, this is done by putting all conditional inputs in a list\n",
    "z, jac_z = oscinn.cinn(x, c=c, rev=False) # output the latents space vector and the log jacobian determinant\n",
    "print('latent space shape: ', z.shape)"
   ]
  },
  {
   "cell_type": "markdown",
   "id": "d69fb69a",
   "metadata": {},
   "source": [
    "Lets test training of a cINN on some arbitrary data"
   ]
  },
  {
   "cell_type": "code",
   "execution_count": 5,
   "id": "3120c718-ed9c-491a-b262-c8b70907335e",
   "metadata": {},
   "outputs": [
    {
     "name": "stderr",
     "output_type": "stream",
     "text": [
      "100%|██████████| 2/2 [00:04<00:00,  2.16s/it]\n"
     ]
    }
   ],
   "source": [
    "c = torch.randn(50, 1, 100).to(device) # create some artificial data to be used as conditional input\n",
    "x = torch.randn(50, 9).to(device) # create some artificial data to be used as input to the invertible network\n",
    "# create some dataset to train on\n",
    "dataset = torch.utils.data.TensorDataset(x, c[:,0])\n",
    "dataloader = torch.utils.data.DataLoader(dataset,\n",
    "                                        batch_size=5,\n",
    "                                        shuffle=True, \n",
    "                                        drop_last=False)\n",
    "oscinn.optimizer = torch.optim.Adam # sets an optimizer for both the invertible and the conditional neural network\n",
    "oscinn.optimizer_kwargs = {'lr':0.001}\n",
    "\n",
    "oscinn.train(dataloader, 2) # the train methods takes the dataloader and the number of epochs that should be trained \n"
   ]
  },
  {
   "cell_type": "markdown",
   "id": "0683a9a8",
   "metadata": {},
   "source": [
    "By creating a new dataset and dataloader, the OScINN can be trained of 1D data"
   ]
  },
  {
   "cell_type": "code",
   "execution_count": null,
   "id": "cb0d8d8e",
   "metadata": {},
   "outputs": [],
   "source": []
  }
 ],
 "metadata": {
  "kernelspec": {
   "display_name": "Python 3.7.12 ('vsc')",
   "language": "python",
   "name": "python3"
  },
  "language_info": {
   "codemirror_mode": {
    "name": "ipython",
    "version": 3
   },
   "file_extension": ".py",
   "mimetype": "text/x-python",
   "name": "python",
   "nbconvert_exporter": "python",
   "pygments_lexer": "ipython3",
   "version": "3.7.12"
  },
  "vscode": {
   "interpreter": {
    "hash": "ccbaa255715c60e2ceba2bfac4b1e390864a1dba56f3e446f01ad971afd9394a"
   }
  }
 },
 "nbformat": 4,
 "nbformat_minor": 5
}
